{
 "cells": [
  {
   "cell_type": "code",
   "execution_count": 7,
   "metadata": {
    "collapsed": true
   },
   "outputs": [],
   "source": [
    "import pandas as pd\n",
    "import numpy as np\n",
    "from pandas import Series,DataFrame\n"
   ]
  },
  {
   "cell_type": "code",
   "execution_count": 17,
   "metadata": {},
   "outputs": [
    {
     "data": {
      "text/html": [
       "<div>\n",
       "<style>\n",
       "    .dataframe thead tr:only-child th {\n",
       "        text-align: right;\n",
       "    }\n",
       "\n",
       "    .dataframe thead th {\n",
       "        text-align: left;\n",
       "    }\n",
       "\n",
       "    .dataframe tbody tr th {\n",
       "        vertical-align: top;\n",
       "    }\n",
       "</style>\n",
       "<table border=\"1\" class=\"dataframe\">\n",
       "  <thead>\n",
       "    <tr style=\"text-align: right;\">\n",
       "      <th></th>\n",
       "      <th>x</th>\n",
       "      <th>y</th>\n",
       "    </tr>\n",
       "  </thead>\n",
       "  <tbody>\n",
       "    <tr>\n",
       "      <th>0</th>\n",
       "      <td>30</td>\n",
       "      <td>22.0</td>\n",
       "    </tr>\n",
       "    <tr>\n",
       "      <th>1</th>\n",
       "      <td>39</td>\n",
       "      <td>10.0</td>\n",
       "    </tr>\n",
       "    <tr>\n",
       "      <th>2</th>\n",
       "      <td>45</td>\n",
       "      <td>18.0</td>\n",
       "    </tr>\n",
       "    <tr>\n",
       "      <th>3</th>\n",
       "      <td>41</td>\n",
       "      <td>18.5</td>\n",
       "    </tr>\n",
       "  </tbody>\n",
       "</table>\n",
       "</div>"
      ],
      "text/plain": [
       "    x     y\n",
       "0  30  22.0\n",
       "1  39  10.0\n",
       "2  45  18.0\n",
       "3  41  18.5"
      ]
     },
     "execution_count": 17,
     "metadata": {},
     "output_type": "execute_result"
    }
   ],
   "source": [
    "df = DataFrame({'x':[37,39,45,41],\n",
    "                        'y':[22,10,18,18.5]})\n",
    "df"
   ]
  },
  {
   "cell_type": "code",
   "execution_count": 19,
   "metadata": {
    "collapsed": true
   },
   "outputs": [],
   "source": [
    "# Simple regression \n",
    "#y = coef*x + bias  "
   ]
  },
  {
   "cell_type": "code",
   "execution_count": 1,
   "metadata": {
    "collapsed": true
   },
   "outputs": [],
   "source": [
    "def predict_y(x,coef,bias):\n",
    "    return x*coef + bias"
   ]
  },
  {
   "cell_type": "markdown",
   "metadata": {},
   "source": [
    "# Cost Function "
   ]
  },
  {
   "cell_type": "code",
   "execution_count": 16,
   "metadata": {
    "collapsed": true
   },
   "outputs": [],
   "source": [
    "# For Simple Linear regression cost function is mean of difference between actual and predicted value \n",
    "\n",
    "\n",
    "#SSE = ∑(target- putput)**2\n",
    "#  MSE=1/N (∑(yi−(mxi+b))2)"
   ]
  },
  {
   "cell_type": "code",
   "execution_count": 50,
   "metadata": {
    "collapsed": true
   },
   "outputs": [],
   "source": [
    "def cost_function(x,y,coef,bias):\n",
    "    l = len(x)\n",
    "    total_err  = 0 \n",
    "    \n",
    "    for i in range(l):\n",
    "        total_err += (y[i]-(coef*x+bias))**2   # square of coefficient \n",
    "    return total_err/l"
   ]
  },
  {
   "cell_type": "markdown",
   "metadata": {},
   "source": [
    "# Gradient Descent "
   ]
  },
  {
   "cell_type": "code",
   "execution_count": 51,
   "metadata": {
    "collapsed": true
   },
   "outputs": [],
   "source": [
    "# We have 2 parameters coef and bias which we can control\n",
    "# In Gradient descent weights are updated after each epoch"
   ]
  },
  {
   "cell_type": "code",
   "execution_count": 52,
   "metadata": {
    "collapsed": true
   },
   "outputs": [],
   "source": [
    "def update_coefficient(x, y, coef, bias, learning_rate):\n",
    "    weight_deriv = 0\n",
    "    bias_deriv = 0\n",
    "    l = len(x)\n",
    "\n",
    "    for i in range(l):\n",
    "        # Calculate partial derivatives\n",
    "        # -2x(y - (mx + b))\n",
    "        weight_deriv += -2*x[i] * (y[i] - (coef*x[i] + bias))\n",
    "\n",
    "        # -2(y - (mx + b))\n",
    "        bias_deriv += -2*(y[i] - (coef*x[i] + bias))\n",
    "\n",
    "    # We subtract because the derivatives point in direction of steepest ascent\n",
    "    coef -= (weight_deriv / l) * learning_rate\n",
    "    bias -= (bias_deriv / l) * learning_rate\n",
    "\n",
    "    return coef, bias"
   ]
  },
  {
   "cell_type": "code",
   "execution_count": 53,
   "metadata": {
    "collapsed": true
   },
   "outputs": [],
   "source": [
    "# running the model"
   ]
  },
  {
   "cell_type": "code",
   "execution_count": null,
   "metadata": {
    "collapsed": true
   },
   "outputs": [],
   "source": [
    "# Learnig rate is used to limit the amount each coefficient is updated each time \n",
    "#iters - number of iterations to run through the training data while updating coeff"
   ]
  },
  {
   "cell_type": "code",
   "execution_count": 69,
   "metadata": {
    "collapsed": true
   },
   "outputs": [],
   "source": [
    "def train(x, y, coef, bias, learning_rate, iters):\n",
    "    cost_history = []\n",
    "\n",
    "    for i in range(iters):\n",
    "        coef,bias = update_coefficient(x, y, coef, bias, learning_rate)\n",
    "\n",
    "      \n",
    "        cost = cost_function(x, y, coef,bias)\n",
    "        cost_history.append(cost)\n",
    "\n",
    "        # Log Progress\n",
    "        if i % 5 == 0:\n",
    "            print(\"iter: \"+str(i) + ' coef :' +str(coef)+\" cost: \"+str(cost))\n",
    "    \n",
    "    return coef, bias, cost_history"
   ]
  },
  {
   "cell_type": "code",
   "execution_count": 77,
   "metadata": {},
   "outputs": [
    {
     "name": "stdout",
     "output_type": "stream",
     "text": [
      "iter: 0 coef :0.15172365 cost: 0    177.269051\n",
      "1    144.808239\n",
      "2    125.239503\n",
      "3    138.101166\n",
      "Name: x, dtype: float64\n",
      "iter: 5 coef :0.38291675095887645 cost: 0    50.954291\n",
      "1    24.050328\n",
      "2    19.310625\n",
      "3    21.297425\n",
      "Name: x, dtype: float64\n",
      "iter: 10 coef :0.4199782224197901 cost: 0    39.665366\n",
      "1    19.834666\n",
      "2    22.488553\n",
      "3    19.308242\n",
      "Name: x, dtype: float64\n",
      "iter: 15 coef :0.42590931590208975 cost: 0    38.084761\n",
      "1    19.548192\n",
      "2    23.516367\n",
      "3    19.419727\n",
      "Name: x, dtype: float64\n",
      "iter: 20 coef :0.42684843359377184 cost: 0    37.836255\n",
      "1    19.512266\n",
      "2    23.694236\n",
      "3    19.448659\n",
      "Name: x, dtype: float64\n",
      "iter: 25 coef :0.4269870529379387 cost: 0    37.795578\n",
      "1    19.506757\n",
      "2    23.722824\n",
      "3    19.453569\n",
      "Name: x, dtype: float64\n",
      "iter: 30 coef :0.42699730695288196 cost: 0    37.788078\n",
      "1    19.505874\n",
      "2    23.727141\n",
      "3    19.454349\n",
      "Name: x, dtype: float64\n",
      "iter: 35 coef :0.42698697691629994 cost: 0    37.785894\n",
      "1    19.505727\n",
      "2    23.727558\n",
      "3    19.454461\n",
      "Name: x, dtype: float64\n",
      "iter: 40 coef :0.42697334631747746 cost: 0    37.784563\n",
      "1    19.505698\n",
      "2    23.727349\n",
      "3    19.454465\n",
      "Name: x, dtype: float64\n",
      "iter: 45 coef :0.4269591866860143 cost: 0    37.783368\n",
      "1    19.505687\n",
      "2    23.727039\n",
      "3    19.454451\n",
      "Name: x, dtype: float64\n",
      "iter: 50 coef :0.4269449424562562 cost: 0    37.782196\n",
      "1    19.505680\n",
      "2    23.726714\n",
      "3    19.454435\n",
      "Name: x, dtype: float64\n",
      "iter: 55 coef :0.4269306848963858 cost: 0    37.781027\n",
      "1    19.505673\n",
      "2    23.726386\n",
      "3    19.454419\n",
      "Name: x, dtype: float64\n",
      "iter: 60 coef :0.4269164254347548 cost: 0    37.779858\n",
      "1    19.505666\n",
      "2    23.726058\n",
      "3    19.454402\n",
      "Name: x, dtype: float64\n",
      "iter: 65 coef :0.42690216590397556 cost: 0    37.778690\n",
      "1    19.505659\n",
      "2    23.725729\n",
      "3    19.454385\n",
      "Name: x, dtype: float64\n",
      "iter: 70 coef :0.42688790659791576 cost: 0    37.777522\n",
      "1    19.505652\n",
      "2    23.725401\n",
      "3    19.454369\n",
      "Name: x, dtype: float64\n",
      "iter: 75 coef :0.4268736475636945 cost: 0    37.776354\n",
      "1    19.505645\n",
      "2    23.725073\n",
      "3    19.454352\n",
      "Name: x, dtype: float64\n"
     ]
    }
   ],
   "source": [
    "coef, bias, cost_history= train(df.x,df.y,0.03,0.0014,0.0001,80)"
   ]
  },
  {
   "cell_type": "code",
   "execution_count": null,
   "metadata": {
    "collapsed": true
   },
   "outputs": [],
   "source": []
  }
 ],
 "metadata": {
  "kernelspec": {
   "display_name": "Python 3",
   "language": "python",
   "name": "python3"
  },
  "language_info": {
   "codemirror_mode": {
    "name": "ipython",
    "version": 3
   },
   "file_extension": ".py",
   "mimetype": "text/x-python",
   "name": "python",
   "nbconvert_exporter": "python",
   "pygments_lexer": "ipython3",
   "version": "3.6.3"
  }
 },
 "nbformat": 4,
 "nbformat_minor": 2
}
